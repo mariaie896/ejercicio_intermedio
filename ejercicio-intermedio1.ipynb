{
 "cells": [
  {
   "cell_type": "markdown",
   "metadata": {},
   "source": [
    "PARTE 1: STRINGS"
   ]
  },
  {
   "cell_type": "markdown",
   "metadata": {},
   "source": [
    "1. Dada una cadena de texto, contar cuántas veces aparece una letra específica en ella. Usa un \n",
    "input para que el usuario elija la letra a buscar. "
   ]
  },
  {
   "cell_type": "code",
   "execution_count": 1,
   "metadata": {},
   "outputs": [
    {
     "name": "stdout",
     "output_type": "stream",
     "text": [
      "El número de veces que aparece la letra es:  4\n"
     ]
    }
   ],
   "source": [
    "cadena = \"Python es un lenguaje de programación muy popular\"\n",
    "\n",
    "letra = input(\"Introduce una letra\")\n",
    "print(\"El número de veces que aparece la letra es: \", cadena.count(letra))"
   ]
  },
  {
   "cell_type": "markdown",
   "metadata": {},
   "source": [
    "2. Escribe un programa que tome la siguiente cadena de texto y reemplace una palabra específica \n",
    "por otra palabra. La palabra a reemplazar y reemplazada deben ser elegidas por el usuario. "
   ]
  },
  {
   "cell_type": "code",
   "execution_count": 3,
   "metadata": {},
   "outputs": [
    {
     "name": "stdout",
     "output_type": "stream",
     "text": [
      "La nueva cadena es:  Python es genial. Python es difícil de aprender.\n"
     ]
    }
   ],
   "source": [
    "cadena = \"Python es genial. Python es fácil de aprender.\"\n",
    "\n",
    "palabra_reemplazar = str(input(\"Introduce la palabra a reemplazar\"))\n",
    "palabra_reemplazada = str(input(\"Introduce la palabra reemplazada\"))\n",
    "\n",
    "print(\"La nueva cadena es: \", cadena.replace(palabra_reemplazar, palabra_reemplazada))"
   ]
  },
  {
   "cell_type": "markdown",
   "metadata": {},
   "source": [
    "3. Toma la siguiente oración y divídela en una lista de palabras. Luego, únelas nuevamente en una \n",
    "sola cadena de texto. "
   ]
  },
  {
   "cell_type": "code",
   "execution_count": 9,
   "metadata": {},
   "outputs": [
    {
     "name": "stdout",
     "output_type": "stream",
     "text": [
      "['Esto', 'es', 'una', 'oración', 'de', 'ejemplo']\n"
     ]
    }
   ],
   "source": [
    "oracion = \"Esto es una oración de ejemplo\"\n",
    "\n",
    "print(oracion.split())\n"
   ]
  },
  {
   "cell_type": "code",
   "execution_count": 16,
   "metadata": {},
   "outputs": [
    {
     "name": "stdout",
     "output_type": "stream",
     "text": [
      "['Esto es una oración de ejemplo']\n"
     ]
    }
   ],
   "source": [
    "lista_oracion = ['Esto', 'es', 'una', 'oración', 'de', 'ejemplo']\n",
    "oracion2 = \" \"\n",
    "oracion3 = [oracion2.join(lista_oracion)]\n",
    "print(oracion3)\n"
   ]
  },
  {
   "cell_type": "markdown",
   "metadata": {},
   "source": [
    "4. Desarrolla un programa que cuente cuántas palabras hay en la siguiente frase. "
   ]
  },
  {
   "cell_type": "code",
   "execution_count": 23,
   "metadata": {},
   "outputs": [
    {
     "name": "stdout",
     "output_type": "stream",
     "text": [
      "7\n"
     ]
    }
   ],
   "source": [
    "cadena = \"Esta es una cadena con cinco palabras\"\n",
    "palabras = cadena.split()\n",
    "print(len(palabras))"
   ]
  },
  {
   "cell_type": "markdown",
   "metadata": {},
   "source": [
    "5. Escribe un programa que invierta una cadena de texto dada por un usuario. Mira el siguiente \n",
    "ejemplo para entender lo que se pide: \n",
    "# input  \n",
    "\"Hola buenos dias\" \n",
    "# output \n",
    "\"dias buenos Hola "
   ]
  },
  {
   "cell_type": "code",
   "execution_count": 4,
   "metadata": {},
   "outputs": [
    {
     "name": "stdout",
     "output_type": "stream",
     "text": [
      "['estás', 'como', 'Hola']\n"
     ]
    }
   ],
   "source": [
    "cadena_texto = input(\"Introduce una frase: \")\n",
    "division_palabras = cadena_texto.split()\n",
    "palabras_invertidas = division_palabras[::-1]\n",
    "cadena_invertida = \" \".join(palabras_invertidas)\n",
    "print(palabras_invertidas)\n"
   ]
  },
  {
   "cell_type": "markdown",
   "metadata": {},
   "source": [
    "6. Crea un programa que busque una palabra específica(elegida por la usuaria) en una cadena de \n",
    "texto e indique su posición. "
   ]
  },
  {
   "cell_type": "code",
   "execution_count": 6,
   "metadata": {},
   "outputs": [
    {
     "name": "stdout",
     "output_type": "stream",
     "text": [
      "2\n"
     ]
    }
   ],
   "source": [
    "cadena_creada = \"Hola soy María\"\n",
    "palabra_usuario = input(\"Introduce una palabra\")\n",
    "resultado = cadena_creada.split()\n",
    "posicion = resultado.index(palabra_usuario)\n",
    "print(posicion)"
   ]
  },
  {
   "cell_type": "markdown",
   "metadata": {},
   "source": [
    "PARTE 2. LISTAS"
   ]
  },
  {
   "cell_type": "markdown",
   "metadata": {},
   "source": [
    "1. Dada la siguiente lista: frutas = ['manzana', 'pera', 'banana', 'uva', 'kiwi'], realiza \n",
    "lo siguiente: \n",
    "a) Reemplaza el segundo elemento con 'durazno'. \n",
    "b) Agrega 'naranja' al final de la lista. \n",
    "c) Extrae y muestra por pantalla el tercer elemento de la lista. "
   ]
  },
  {
   "cell_type": "code",
   "execution_count": 49,
   "metadata": {},
   "outputs": [
    {
     "name": "stdout",
     "output_type": "stream",
     "text": [
      "['manzana', 'durazno', 'banana', 'uva', 'kiwi']\n"
     ]
    }
   ],
   "source": [
    "frutas = ['manzana', 'pera', 'banana', 'uva', 'kiwi']\n",
    "frutas.remove('pera')\n",
    "frutas.insert(1, 'durazno')\n",
    "print(frutas)"
   ]
  },
  {
   "cell_type": "code",
   "execution_count": 7,
   "metadata": {},
   "outputs": [
    {
     "name": "stdout",
     "output_type": "stream",
     "text": [
      "['manzana', 'durazno', 'banana', 'uva', 'kiwi']\n"
     ]
    }
   ],
   "source": [
    "frutas = ['manzana', 'pera', 'banana', 'uva', 'kiwi']\n",
    "frutas[1] = 'durazno'\n",
    "print(frutas)"
   ]
  },
  {
   "cell_type": "code",
   "execution_count": 50,
   "metadata": {},
   "outputs": [
    {
     "name": "stdout",
     "output_type": "stream",
     "text": [
      "['manzana', 'durazno', 'banana', 'uva', 'kiwi', 'naranja']\n"
     ]
    }
   ],
   "source": [
    "frutas.append(\"naranja\")\n",
    "print(frutas)"
   ]
  },
  {
   "cell_type": "code",
   "execution_count": 51,
   "metadata": {},
   "outputs": [
    {
     "name": "stdout",
     "output_type": "stream",
     "text": [
      "banana\n"
     ]
    }
   ],
   "source": [
    "print(frutas.pop(2))"
   ]
  },
  {
   "cell_type": "markdown",
   "metadata": {},
   "source": [
    "2. Crea una lista llamada numeros que contenga los siguientes valores: 10, 25, 15, 30, 20. "
   ]
  },
  {
   "cell_type": "code",
   "execution_count": 9,
   "metadata": {},
   "outputs": [],
   "source": [
    "numeros = [10, 25, 15, 30, 20]"
   ]
  },
  {
   "cell_type": "markdown",
   "metadata": {},
   "source": [
    "3. Agrega el valor 35 al incio de la lista numeros. "
   ]
  },
  {
   "cell_type": "code",
   "execution_count": 10,
   "metadata": {},
   "outputs": [
    {
     "name": "stdout",
     "output_type": "stream",
     "text": [
      "[35, 10, 25, 15, 30, 20]\n"
     ]
    }
   ],
   "source": [
    "numeros.insert(0, 35)\n",
    "print(numeros)"
   ]
  },
  {
   "cell_type": "markdown",
   "metadata": {},
   "source": [
    "4. Ordena la lista numeros en orden ascendente. "
   ]
  },
  {
   "cell_type": "code",
   "execution_count": 11,
   "metadata": {},
   "outputs": [
    {
     "name": "stdout",
     "output_type": "stream",
     "text": [
      "[10, 15, 20, 25, 30, 35]\n"
     ]
    }
   ],
   "source": [
    "numeros.sort()\n",
    "print(numeros)"
   ]
  },
  {
   "cell_type": "markdown",
   "metadata": {},
   "source": [
    "5. Dada la siguiente lista numeros2 = [45, 22, 19, 38, 29]. Crea una nueva lista llamada \n",
    "numeros3 donde tengamos la unión de los todos los elementos de las dos listas (numeros y \n",
    "numeros2) de tal forma que el resultado final sea: numeros3 = [10, 25, 15, 30, 20, 45, 22, 19, 38, 29] "
   ]
  },
  {
   "cell_type": "code",
   "execution_count": 13,
   "metadata": {},
   "outputs": [
    {
     "name": "stdout",
     "output_type": "stream",
     "text": [
      "[10, 15, 19, 20, 22, 25, 29, 30, 35, 38, 45]\n"
     ]
    }
   ],
   "source": [
    "numeros2 = [45, 22, 19, 38, 29]\n",
    "numeros3 = numeros + numeros2\n",
    "numeros3.sort()\n",
    "print(numeros3)\n"
   ]
  },
  {
   "cell_type": "markdown",
   "metadata": {},
   "source": [
    "6. Elimina el último elemento de la lista numeros3. "
   ]
  },
  {
   "cell_type": "code",
   "execution_count": 14,
   "metadata": {},
   "outputs": [
    {
     "name": "stdout",
     "output_type": "stream",
     "text": [
      "[10, 15, 19, 20, 22, 25, 29, 30, 35, 38]\n"
     ]
    }
   ],
   "source": [
    "numeros3.pop()\n",
    "print(numeros3)"
   ]
  },
  {
   "cell_type": "markdown",
   "metadata": {},
   "source": [
    "7. Elimina el número 30 de la lista numeros3. "
   ]
  },
  {
   "cell_type": "code",
   "execution_count": 15,
   "metadata": {},
   "outputs": [
    {
     "name": "stdout",
     "output_type": "stream",
     "text": [
      "[10, 15, 19, 20, 22, 25, 29, 35, 38]\n"
     ]
    }
   ],
   "source": [
    "numeros3.remove(30)\n",
    "print(numeros3)"
   ]
  },
  {
   "cell_type": "markdown",
   "metadata": {},
   "source": [
    "PARTE 3: TUPLAS"
   ]
  },
  {
   "cell_type": "markdown",
   "metadata": {},
   "source": [
    "1. Crea una tupla llamada colores que contenga los siguientes valores: 'rojo', 'verde', 'azul', \n",
    "'amarillo', 'morado'. "
   ]
  },
  {
   "cell_type": "code",
   "execution_count": 68,
   "metadata": {},
   "outputs": [],
   "source": [
    "colores = ('rojo', 'verde', 'azul', 'amarillo', 'morado')\n"
   ]
  },
  {
   "cell_type": "markdown",
   "metadata": {},
   "source": [
    "2. Encuentra el índice de 'verde' en la tupla colores. "
   ]
  },
  {
   "cell_type": "code",
   "execution_count": 67,
   "metadata": {},
   "outputs": [
    {
     "name": "stdout",
     "output_type": "stream",
     "text": [
      "Verde está en la posición:  1\n"
     ]
    }
   ],
   "source": [
    "print(\"Verde está en la posición: \", colores.index('verde'))"
   ]
  },
  {
   "cell_type": "markdown",
   "metadata": {},
   "source": [
    "3. ¿Cuántas veces aparece 'azul' en la tupla colores? "
   ]
  },
  {
   "cell_type": "code",
   "execution_count": 71,
   "metadata": {},
   "outputs": [
    {
     "name": "stdout",
     "output_type": "stream",
     "text": [
      "Azul aparece:  1 veces\n"
     ]
    }
   ],
   "source": [
    "print(\"Azul aparece: \", colores.count('azul'), \"veces\")"
   ]
  },
  {
   "cell_type": "markdown",
   "metadata": {},
   "source": [
    "4. Añade el color \"morado\" a la tupla colores. ¿Qué ha pasado? ¿Por qué? Como podríamos \n",
    "añadir el elemento \"morado\". "
   ]
  },
  {
   "cell_type": "code",
   "execution_count": 73,
   "metadata": {},
   "outputs": [
    {
     "name": "stdout",
     "output_type": "stream",
     "text": [
      "('rojo', 'morado', 'azul', 'amarillo', 'morado')\n"
     ]
    }
   ],
   "source": [
    "# No se pueden agregar nuevos elementos a una tupla. Para ello, tenemos que convertir la tupla en una lista, añadir el elemento y luego convertirlo de nuevo en tupla\n",
    "\n",
    "lista_colores = list(colores)\n",
    "lista_colores[1] = 'morado'\n",
    "colores = tuple(lista_colores)\n",
    "print(colores)"
   ]
  },
  {
   "cell_type": "markdown",
   "metadata": {},
   "source": [
    "PARTE 4: DICCIONARIOS"
   ]
  },
  {
   "cell_type": "markdown",
   "metadata": {},
   "source": [
    "1. Crea un diccionario llamado frutas con las siguientes parejas clave-valor: \n",
    "o 'manzana': 2 \n",
    "o 'banana': 3 \n",
    "o 'uva': 5 \n",
    "o 'pera': 4 "
   ]
  },
  {
   "cell_type": "code",
   "execution_count": 23,
   "metadata": {},
   "outputs": [],
   "source": [
    "frutas = {'manzana': 2, 'banana': 3, 'uva': 5, 'pera': 4}"
   ]
  },
  {
   "cell_type": "markdown",
   "metadata": {},
   "source": [
    "2. Saca una lista de todas las frutas en el diccionario. "
   ]
  },
  {
   "cell_type": "code",
   "execution_count": 24,
   "metadata": {},
   "outputs": [
    {
     "name": "stdout",
     "output_type": "stream",
     "text": [
      "['manzana', 'banana', 'uva', 'pera']\n"
     ]
    }
   ],
   "source": [
    "claves_frutas = list(frutas.keys())\n",
    "print(claves_frutas)"
   ]
  },
  {
   "cell_type": "markdown",
   "metadata": {},
   "source": [
    "3. Saca una lista de todas las cantidades en el diccionario. "
   ]
  },
  {
   "cell_type": "code",
   "execution_count": 25,
   "metadata": {},
   "outputs": [
    {
     "name": "stdout",
     "output_type": "stream",
     "text": [
      "[2, 3, 5, 4]\n"
     ]
    }
   ],
   "source": [
    "valores_frutas = list(frutas.values())\n",
    "print(valores_frutas)"
   ]
  },
  {
   "cell_type": "markdown",
   "metadata": {},
   "source": [
    "4. ¿Qué cantidad de 'manzana' tenemos?. Si la clave 'manzana' no está presente, devuelve un \n",
    "mensaje diciendo \"No existe esa clave\". "
   ]
  },
  {
   "cell_type": "code",
   "execution_count": 20,
   "metadata": {},
   "outputs": [
    {
     "ename": "NameError",
     "evalue": "name 'valores_frutas' is not defined",
     "output_type": "error",
     "traceback": [
      "\u001b[0;31m---------------------------------------------------------------------------\u001b[0m",
      "\u001b[0;31mNameError\u001b[0m                                 Traceback (most recent call last)",
      "Input \u001b[0;32mIn [20]\u001b[0m, in \u001b[0;36m<cell line: 1>\u001b[0;34m()\u001b[0m\n\u001b[0;32m----> 1\u001b[0m numero_manzanas \u001b[38;5;241m=\u001b[39m \u001b[43mvalores_frutas\u001b[49m\u001b[38;5;241m.\u001b[39mget(\u001b[38;5;124m\"\u001b[39m\u001b[38;5;124mmanzana\u001b[39m\u001b[38;5;124m\"\u001b[39m, \u001b[38;5;124m\"\u001b[39m\u001b[38;5;124mNo existe esa clave\u001b[39m\u001b[38;5;124m\"\u001b[39m)\n\u001b[1;32m      2\u001b[0m \u001b[38;5;28mprint\u001b[39m(numero_manzanas)\n",
      "\u001b[0;31mNameError\u001b[0m: name 'valores_frutas' is not defined"
     ]
    }
   ],
   "source": [
    "numero_manzanas = frutas.get(\"manzana\", \"No existe esa clave\")\n",
    "print(numero_manzanas)"
   ]
  },
  {
   "cell_type": "code",
   "execution_count": 86,
   "metadata": {},
   "outputs": [
    {
     "name": "stdout",
     "output_type": "stream",
     "text": [
      "1\n"
     ]
    }
   ],
   "source": [
    "print(claves_frutas.count('manzana'))"
   ]
  },
  {
   "cell_type": "markdown",
   "metadata": {},
   "source": [
    "5. Agrega un nuevo par de clave-valor al diccionario frutas: 'kiwi' con una cantidad de 6. "
   ]
  },
  {
   "cell_type": "code",
   "execution_count": 88,
   "metadata": {},
   "outputs": [
    {
     "name": "stdout",
     "output_type": "stream",
     "text": [
      "El diccionario original de las frutas es:  {'manzana': 2, 'banana': 3, 'uva': 5, 'pera': 4}\n",
      "El diccionario de las frutas después de añadir la nueva pareja de key-value es:  {'manzana': 2, 'banana': 3, 'uva': 5, 'pera': 4, 'kiwi': 6}\n"
     ]
    }
   ],
   "source": [
    "print(\"El diccionario original de las frutas es: \", frutas)\n",
    "\n",
    "nuevo_elemento = {\"kiwi\": 6}\n",
    "\n",
    "frutas.update(nuevo_elemento)\n",
    "print(\"El diccionario de las frutas después de añadir la nueva pareja de key-value es: \", frutas)"
   ]
  },
  {
   "cell_type": "markdown",
   "metadata": {},
   "source": [
    "6. Cambia la cantidad de 'uva' a 8. "
   ]
  },
  {
   "cell_type": "code",
   "execution_count": 89,
   "metadata": {},
   "outputs": [
    {
     "name": "stdout",
     "output_type": "stream",
     "text": [
      "{'manzana': 2, 'banana': 3, 'uva': 8, 'pera': 4, 'kiwi': 6}\n"
     ]
    }
   ],
   "source": [
    "frutas['uva'] = 8\n",
    "print(frutas)"
   ]
  },
  {
   "cell_type": "markdown",
   "metadata": {},
   "source": [
    "7. Crea un segundo diccionario llamado frutas_nuevas con las siguientes parejas clave-valor: \n",
    "o 'sandía': 7 \n",
    "o 'mango': 4 "
   ]
  },
  {
   "cell_type": "code",
   "execution_count": 90,
   "metadata": {},
   "outputs": [],
   "source": [
    "frutas_nuevas = {'sandía': 7, 'mango': 4}"
   ]
  },
  {
   "cell_type": "markdown",
   "metadata": {},
   "source": [
    "8. Combinar los dos diccionarios frutas_nuevas y frutas en uno nuevos llamado frutas_total. "
   ]
  },
  {
   "cell_type": "code",
   "execution_count": 94,
   "metadata": {},
   "outputs": [
    {
     "name": "stdout",
     "output_type": "stream",
     "text": [
      "{'manzana': 2, 'banana': 3, 'uva': 8, 'pera': 4, 'kiwi': 6, 'sandía': 7, 'mango': 4}\n"
     ]
    }
   ],
   "source": [
    "frutas_total = frutas | frutas_nuevas\n",
    "print(frutas_total)"
   ]
  },
  {
   "cell_type": "markdown",
   "metadata": {},
   "source": [
    "9. Elimina el último par de clave-valor del diccionario fruta_total. "
   ]
  },
  {
   "cell_type": "code",
   "execution_count": 95,
   "metadata": {},
   "outputs": [
    {
     "name": "stdout",
     "output_type": "stream",
     "text": [
      "Eliminamos la clave 'mango' del diccionario: 4\n",
      "El diccionario de las frutas es {'manzana': 2, 'banana': 3, 'uva': 8, 'pera': 4, 'kiwi': 6, 'sandía': 7}\n"
     ]
    }
   ],
   "source": [
    "\n",
    "print(\"Eliminamos la clave 'mango' del diccionario:\", frutas_total.pop(\"mango\"))\n",
    "\n",
    "print(\"El diccionario de las frutas es\", frutas_total)"
   ]
  },
  {
   "cell_type": "markdown",
   "metadata": {},
   "source": [
    "10. Elimina el par de clave-valor correspondiente a la clave 'uva' del diccionario. "
   ]
  },
  {
   "cell_type": "code",
   "execution_count": 96,
   "metadata": {},
   "outputs": [
    {
     "name": "stdout",
     "output_type": "stream",
     "text": [
      "Eliminamos la clave 'uva' del diccionario: 8\n",
      "El diccionario de las frutas es {'manzana': 2, 'banana': 3, 'pera': 4, 'kiwi': 6, 'sandía': 7}\n"
     ]
    }
   ],
   "source": [
    "print(\"Eliminamos la clave 'uva' del diccionario:\", frutas_total.pop(\"uva\"))\n",
    "\n",
    "print(\"El diccionario de las frutas es\", frutas_total)"
   ]
  },
  {
   "cell_type": "markdown",
   "metadata": {},
   "source": [
    "11. Agregar la fruta 'manzana' con una cantidad de 10 al diccionario. Si ya existe, no se realizarán \n",
    "cambios en los valores que teníamos. "
   ]
  },
  {
   "cell_type": "code",
   "execution_count": 97,
   "metadata": {},
   "outputs": [
    {
     "name": "stdout",
     "output_type": "stream",
     "text": [
      "El diccionario original de las frutas es:  {'manzana': 2, 'banana': 3, 'pera': 4, 'kiwi': 6, 'sandía': 7}\n",
      "El diccionario de las frutas después de añadir la nueva pareja de key-value es:  {'manzana': 10, 'banana': 3, 'pera': 4, 'kiwi': 6, 'sandía': 7}\n"
     ]
    }
   ],
   "source": [
    "print(\"El diccionario original de las frutas es: \", frutas_total)\n",
    "\n",
    "nuevo_elemento2 = {\"manzana\": 10}\n",
    "\n",
    "frutas_total.update(nuevo_elemento2)\n",
    "print(\"El diccionario de las frutas después de añadir la nueva pareja de key-value es: \", frutas_total)"
   ]
  },
  {
   "cell_type": "markdown",
   "metadata": {},
   "source": [
    "12. Combinar métodos de listas y diccionarios: \n",
    "o Obtén una lista de todas las cantidades en el diccionario y calcula suma total de las \n",
    "cantidades del diccionario frutas_total. \n",
    "o Utilizando la lista creada en el apartado anterior encuentra la cantidad más grande y \n",
    "más pequeña. "
   ]
  },
  {
   "cell_type": "code",
   "execution_count": 99,
   "metadata": {},
   "outputs": [
    {
     "name": "stdout",
     "output_type": "stream",
     "text": [
      "[10, 3, 4, 6, 7]\n",
      "30\n"
     ]
    }
   ],
   "source": [
    "valores_frutas_total = list(frutas_total.values())\n",
    "print(valores_frutas_total)\n",
    "suma_frutas = sum(valores_frutas_total)\n",
    "print(suma_frutas)"
   ]
  },
  {
   "cell_type": "code",
   "execution_count": 101,
   "metadata": {},
   "outputs": [
    {
     "name": "stdout",
     "output_type": "stream",
     "text": [
      "10\n",
      "3\n"
     ]
    }
   ],
   "source": [
    "maximo = max(valores_frutas_total)\n",
    "print(maximo)\n",
    "minimo = min(valores_frutas_total)\n",
    "print(minimo)"
   ]
  },
  {
   "cell_type": "markdown",
   "metadata": {},
   "source": [
    "PARTE 5: MÉTODOS SETS"
   ]
  },
  {
   "cell_type": "markdown",
   "metadata": {},
   "source": [
    "13. Crea un set llamado conjunto1 con los números del 1 al 5. "
   ]
  },
  {
   "cell_type": "code",
   "execution_count": 104,
   "metadata": {},
   "outputs": [],
   "source": [
    "conjunto1 = {1, 2, 3, 4, 5}"
   ]
  },
  {
   "cell_type": "markdown",
   "metadata": {},
   "source": [
    "14. Crea otro set llamado conjunto2 con los números del 4 al 8. "
   ]
  },
  {
   "cell_type": "code",
   "execution_count": 105,
   "metadata": {},
   "outputs": [],
   "source": [
    "conjunto2 = {4, 5, 6, 7, 8}"
   ]
  },
  {
   "cell_type": "markdown",
   "metadata": {},
   "source": [
    "15. Obtén la unión de conjunto1 y conjunto2. "
   ]
  },
  {
   "cell_type": "code",
   "execution_count": 106,
   "metadata": {},
   "outputs": [
    {
     "name": "stdout",
     "output_type": "stream",
     "text": [
      "{1, 2, 3, 4, 5, 6, 7, 8}\n"
     ]
    }
   ],
   "source": [
    "union = conjunto1 | conjunto2\n",
    "print(union)"
   ]
  },
  {
   "cell_type": "markdown",
   "metadata": {},
   "source": [
    "16. Obtén la intersección de conjunto1 y conjunto2. "
   ]
  },
  {
   "cell_type": "code",
   "execution_count": 107,
   "metadata": {},
   "outputs": [
    {
     "name": "stdout",
     "output_type": "stream",
     "text": [
      "Los elementos que tienen en común el ' conjunto 1' y el 'conjunto 2' son: {4, 5}\n"
     ]
    }
   ],
   "source": [
    "interseccion = conjunto1.intersection(conjunto2)\n",
    "print(\"Los elementos que tienen en común el ' conjunto 1' y el 'conjunto 2' son:\", interseccion)"
   ]
  },
  {
   "cell_type": "markdown",
   "metadata": {},
   "source": [
    "17. Obtén los elementos que están en conjunto1 pero no en el conjunto2. "
   ]
  },
  {
   "cell_type": "code",
   "execution_count": 108,
   "metadata": {},
   "outputs": [
    {
     "name": "stdout",
     "output_type": "stream",
     "text": [
      "Los elementos que están en el conjunto 1 pero no en el conjunto 2 son: {1, 2, 3}\n"
     ]
    }
   ],
   "source": [
    "diferencia = conjunto1.difference(conjunto2)\n",
    "print(\"Los elementos que están en el conjunto 1 pero no en el conjunto 2 son:\", diferencia)"
   ]
  },
  {
   "cell_type": "markdown",
   "metadata": {},
   "source": [
    "PARTE 6: SENTENCIAS DE CONTROL"
   ]
  },
  {
   "cell_type": "markdown",
   "metadata": {},
   "source": [
    "Ejercicio 1: Evaluación de Edades: \n",
    "o Escribe un programa que solicite al usuario ingresar su edad. \n",
    "o Si la edad es menor de 18, muestra \"Eres menor de edad\". \n",
    "o Si la edad está entre 18 y 65 (incluyendo ambos extremos), muestra \"Eres adulto\". \n",
    "o Si la edad es mayor que 65, muestra \"Eres un adulto mayor\". "
   ]
  },
  {
   "cell_type": "code",
   "execution_count": 27,
   "metadata": {},
   "outputs": [
    {
     "name": "stdout",
     "output_type": "stream",
     "text": [
      "25\n",
      "Eres un adulto mayor\n"
     ]
    }
   ],
   "source": [
    "edad = int(input(\"Introduce tu edad\"))\n",
    "print(edad)\n",
    "\n",
    "if edad < 18:\n",
    "    print(\"Eres menor de edad\")\n",
    "elif 18 >= edad <= 65:\n",
    "    print(\"Eres adulto\")\n",
    "else:\n",
    "    print(\"Eres un adulto mayor\")"
   ]
  },
  {
   "cell_type": "markdown",
   "metadata": {},
   "source": [
    "Ejercicio 2: Determinación de Día de la Semana \n",
    "o Solicita al usuario que ingrese un número del 1 al 7. \n",
    "o Utilizando una serie de if-elif-else, muestra el día de la semana correspondiente al \n",
    "número ingresado. Por ejemplo, si ingresa 1, muestra \"Lunes\". "
   ]
  },
  {
   "cell_type": "code",
   "execution_count": 112,
   "metadata": {},
   "outputs": [
    {
     "name": "stdout",
     "output_type": "stream",
     "text": [
      "5\n",
      "Viernes\n"
     ]
    }
   ],
   "source": [
    "dia = int(input(\"Introduce un número del 1 al 7\"))\n",
    "print(dia)\n",
    "\n",
    "if dia == 1:\n",
    "    print(\"Lunes\")\n",
    "elif dia == 2:\n",
    "    print(\"Martes\")\n",
    "elif dia == 3:\n",
    "    print(\"Miércoles\")\n",
    "elif dia == 4:\n",
    "    print(\"Jueves\")\n",
    "elif dia == 5:\n",
    "    print(\"Viernes\")\n",
    "elif dia == 6:\n",
    "    print(\"Sábado\")\n",
    "elif dia == 7:\n",
    "    print(\"`Domingo`\")\n",
    "else:\n",
    "    print(\"Error\")"
   ]
  }
 ],
 "metadata": {
  "kernelspec": {
   "display_name": "base",
   "language": "python",
   "name": "python3"
  },
  "language_info": {
   "codemirror_mode": {
    "name": "ipython",
    "version": 3
   },
   "file_extension": ".py",
   "mimetype": "text/x-python",
   "name": "python",
   "nbconvert_exporter": "python",
   "pygments_lexer": "ipython3",
   "version": "3.9.12"
  }
 },
 "nbformat": 4,
 "nbformat_minor": 2
}
